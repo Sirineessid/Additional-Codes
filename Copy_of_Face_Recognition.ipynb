{
  "nbformat": 4,
  "nbformat_minor": 0,
  "metadata": {
    "colab": {
      "provenance": []
    },
    "kernelspec": {
      "name": "python3",
      "display_name": "Python 3"
    },
    "accelerator": "GPU"
  },
  "cells": [
    {
      "cell_type": "code",
      "metadata": {
        "id": "ENZPQPlsLiU5",
        "outputId": "8837baf5-89ab-4810-8b57-6d433022fac4",
        "colab": {
          "base_uri": "https://localhost:8080/"
        }
      },
      "source": [
        "!pip install face_recognition"
      ],
      "execution_count": 2,
      "outputs": [
        {
          "output_type": "stream",
          "name": "stdout",
          "text": [
            "Requirement already satisfied: face_recognition in /usr/local/lib/python3.11/dist-packages (1.3.0)\n",
            "Requirement already satisfied: face-recognition-models>=0.3.0 in /usr/local/lib/python3.11/dist-packages (from face_recognition) (0.3.0)\n",
            "Requirement already satisfied: Click>=6.0 in /usr/local/lib/python3.11/dist-packages (from face_recognition) (8.1.8)\n",
            "Requirement already satisfied: dlib>=19.7 in /usr/local/lib/python3.11/dist-packages (from face_recognition) (19.24.6)\n",
            "Requirement already satisfied: numpy in /usr/local/lib/python3.11/dist-packages (from face_recognition) (2.0.2)\n",
            "Requirement already satisfied: Pillow in /usr/local/lib/python3.11/dist-packages (from face_recognition) (11.1.0)\n"
          ]
        }
      ]
    },
    {
      "cell_type": "code",
      "metadata": {
        "id": "Swr7ZSyqL77h",
        "outputId": "008de7c9-62d5-4972-a16e-ebe046465e6b",
        "colab": {
          "base_uri": "https://localhost:8080/"
        }
      },
      "source": [
        "!mkdir known\n",
        "!wget https://www.biography.com/.image/t_share/MTY2MzU3Nzk2OTM2MjMwNTkx/elon_musk_royal_society.jpg -O known/elon.jpg\n",
        "!wget https://pbs.twimg.com/profile_images/988775660163252226/XpgonN0X_400x400.jpg -O known/bill.jpg\n",
        "!wget https://www.biography.com/.image/t_share/MTE4MDAzNDEwNzg5ODI4MTEw/barack-obama-12782369-1-402.jpg -O known/obama.jpg"
      ],
      "execution_count": 3,
      "outputs": [
        {
          "output_type": "stream",
          "name": "stdout",
          "text": [
            "--2025-04-07 16:23:54--  https://www.biography.com/.image/t_share/MTY2MzU3Nzk2OTM2MjMwNTkx/elon_musk_royal_society.jpg\n",
            "Resolving www.biography.com (www.biography.com)... 151.101.0.155, 151.101.64.155, 151.101.128.155, ...\n",
            "Connecting to www.biography.com (www.biography.com)|151.101.0.155|:443... connected.\n",
            "HTTP request sent, awaiting response... 404 Not Found\n",
            "2025-04-07 16:23:54 ERROR 404: Not Found.\n",
            "\n",
            "--2025-04-07 16:23:54--  https://pbs.twimg.com/profile_images/988775660163252226/XpgonN0X_400x400.jpg\n",
            "Resolving pbs.twimg.com (pbs.twimg.com)... 199.232.44.159, 2a04:4e42:48::159\n",
            "Connecting to pbs.twimg.com (pbs.twimg.com)|199.232.44.159|:443... connected.\n",
            "HTTP request sent, awaiting response... 404 Not Found\n",
            "2025-04-07 16:23:54 ERROR 404: Not Found.\n",
            "\n",
            "--2025-04-07 16:23:55--  https://www.biography.com/.image/t_share/MTE4MDAzNDEwNzg5ODI4MTEw/barack-obama-12782369-1-402.jpg\n",
            "Resolving www.biography.com (www.biography.com)... 151.101.0.155, 151.101.64.155, 151.101.128.155, ...\n",
            "Connecting to www.biography.com (www.biography.com)|151.101.0.155|:443... connected.\n",
            "HTTP request sent, awaiting response... 404 Not Found\n",
            "2025-04-07 16:23:55 ERROR 404: Not Found.\n",
            "\n"
          ]
        }
      ]
    },
    {
      "cell_type": "code",
      "metadata": {
        "id": "jXzlRNtMMKJn",
        "outputId": "eff848d2-06e6-4e30-abb6-31f889b350a6",
        "colab": {
          "base_uri": "https://localhost:8080/"
        }
      },
      "source": [
        "!mkdir unknown\n",
        "!wget https://i.insider.com/5ddfa893fd9db26b8a4a2df7 -O unknown/1.jpg\n",
        "!wget https://cdn-images-1.medium.com/max/1200/1*aEoYLgy4z1lT1kW7dqWzBg.jpeg -O unknown/2.jpg\n",
        "!wget https://media2.s-nbcnews.com/j/newscms/2017_46/2224911/171113-bill-gates-se-247p_043bd413c63b2a97abf11bfad747538d.fit-760w.jpg -O unknown/3.jpg\n",
        "!wget https://specials-images.forbesimg.com/imageserve/1184274010/960x0.jpg -O unknown/4.jpg\n",
        "\n"
      ],
      "execution_count": 4,
      "outputs": [
        {
          "output_type": "stream",
          "name": "stdout",
          "text": [
            "--2025-04-07 16:24:09--  https://i.insider.com/5ddfa893fd9db26b8a4a2df7\n",
            "Resolving i.insider.com (i.insider.com)... 151.101.2.217, 151.101.66.217, 151.101.130.217, ...\n",
            "Connecting to i.insider.com (i.insider.com)|151.101.2.217|:443... connected.\n",
            "HTTP request sent, awaiting response... 200 OK\n",
            "Length: 2324104 (2.2M) [image/png]\n",
            "Saving to: ‘unknown/1.jpg’\n",
            "\n",
            "unknown/1.jpg       100%[===================>]   2.22M  --.-KB/s    in 0.009s  \n",
            "\n",
            "2025-04-07 16:24:09 (235 MB/s) - ‘unknown/1.jpg’ saved [2324104/2324104]\n",
            "\n",
            "Warning: wildcards not supported in HTTP.\n",
            "--2025-04-07 16:24:09--  https://cdn-images-1.medium.com/max/1200/1*aEoYLgy4z1lT1kW7dqWzBg.jpeg\n",
            "Resolving cdn-images-1.medium.com (cdn-images-1.medium.com)... 162.159.153.4, 162.159.152.4, 2606:4700:7::a29f:9804, ...\n",
            "Connecting to cdn-images-1.medium.com (cdn-images-1.medium.com)|162.159.153.4|:443... connected.\n",
            "HTTP request sent, awaiting response... 301 Moved Permanently\n",
            "Location: /v2/resize:fit:1200/1*aEoYLgy4z1lT1kW7dqWzBg.jpeg [following]\n",
            "Warning: wildcards not supported in HTTP.\n",
            "--2025-04-07 16:24:10--  https://cdn-images-1.medium.com/v2/resize:fit:1200/1*aEoYLgy4z1lT1kW7dqWzBg.jpeg\n",
            "Reusing existing connection to cdn-images-1.medium.com:443.\n",
            "HTTP request sent, awaiting response... 200 OK\n",
            "Length: 79570 (78K) [image/jpeg]\n",
            "Saving to: ‘unknown/2.jpg’\n",
            "\n",
            "unknown/2.jpg       100%[===================>]  77.71K  --.-KB/s    in 0.003s  \n",
            "\n",
            "2025-04-07 16:24:10 (28.7 MB/s) - ‘unknown/2.jpg’ saved [79570/79570]\n",
            "\n",
            "--2025-04-07 16:24:10--  https://media2.s-nbcnews.com/j/newscms/2017_46/2224911/171113-bill-gates-se-247p_043bd413c63b2a97abf11bfad747538d.fit-760w.jpg\n",
            "Resolving media2.s-nbcnews.com (media2.s-nbcnews.com)... 104.103.145.236, 2600:1413:a000:594::a1d, 2600:1413:a000:59d::a1d\n",
            "Connecting to media2.s-nbcnews.com (media2.s-nbcnews.com)|104.103.145.236|:443... connected.\n",
            "HTTP request sent, awaiting response... 301 Moved Permanently\n",
            "Location: https://media-cldnry.s-nbcnews.com/image/upload/t_fit-760w,f_auto,q_auto:best/newscms/2017_46/2224911/171113-bill-gates-se-247p.jpg [following]\n",
            "--2025-04-07 16:24:11--  https://media-cldnry.s-nbcnews.com/image/upload/t_fit-760w,f_auto,q_auto:best/newscms/2017_46/2224911/171113-bill-gates-se-247p.jpg\n",
            "Resolving media-cldnry.s-nbcnews.com (media-cldnry.s-nbcnews.com)... 104.103.145.236, 2600:1413:a000:59d::a1d, 2600:1413:a000:594::a1d\n",
            "Connecting to media-cldnry.s-nbcnews.com (media-cldnry.s-nbcnews.com)|104.103.145.236|:443... connected.\n",
            "HTTP request sent, awaiting response... 200 OK\n",
            "Length: 50643 (49K) [image/jpeg]\n",
            "Saving to: ‘unknown/3.jpg’\n",
            "\n",
            "unknown/3.jpg       100%[===================>]  49.46K  --.-KB/s    in 0.02s   \n",
            "\n",
            "2025-04-07 16:24:11 (1.98 MB/s) - ‘unknown/3.jpg’ saved [50643/50643]\n",
            "\n",
            "--2025-04-07 16:24:11--  https://specials-images.forbesimg.com/imageserve/1184274010/960x0.jpg\n",
            "Resolving specials-images.forbesimg.com (specials-images.forbesimg.com)... 151.101.1.55, 151.101.65.55, 151.101.129.55, ...\n",
            "Connecting to specials-images.forbesimg.com (specials-images.forbesimg.com)|151.101.1.55|:443... connected.\n",
            "HTTP request sent, awaiting response... 200 OK\n",
            "Length: 41769 (41K) [image/jpeg]\n",
            "Saving to: ‘unknown/4.jpg’\n",
            "\n",
            "unknown/4.jpg       100%[===================>]  40.79K  --.-KB/s    in 0.002s  \n",
            "\n",
            "2025-04-07 16:24:11 (24.6 MB/s) - ‘unknown/4.jpg’ saved [41769/41769]\n",
            "\n"
          ]
        }
      ]
    },
    {
      "cell_type": "code",
      "metadata": {
        "id": "qQnVOYYTMN0H",
        "outputId": "d5c4e8c1-c28d-4833-e61c-23ebd96d12c2",
        "colab": {
          "base_uri": "https://localhost:8080/",
          "height": 443
        }
      },
      "source": [
        "import face_recognition\n",
        "import cv2\n",
        "import os\n",
        "from google.colab.patches import cv2_imshow\n",
        "\n",
        "def read_img(path):\n",
        "    img = cv2.imread(path)\n",
        "    # Check if image was loaded successfully\n",
        "    if img is None:\n",
        "        print(f\"Error: Could not load image at path: {path}\")\n",
        "        return None\n",
        "    (h, w) = img.shape[:2]\n",
        "    width = 500\n",
        "    ratio = width / float(w)\n",
        "    height = int(h * ratio)\n",
        "    return cv2.resize(img, (width, height))\n",
        "\n",
        "\n",
        "known_encodings = []\n",
        "known_names = []\n",
        "known_dir = 'known'\n",
        "\n",
        "for file in os.listdir(known_dir):\n",
        "    img = read_img(known_dir + '/' + file)\n",
        "      # Skip if image loading failed\n",
        "    if img is None:\n",
        "        continue\n",
        "    img_enc = face_recognition.face_encodings(img)[0]\n",
        "    known_encodings.append(img_enc)\n",
        "    known_names.append(file.split('.')[0])\n",
        "\n",
        "unknown_dir = 'unknown'\n",
        "for file in os.listdir(unknown_dir):\n",
        "    print(\"Processing\", file)\n",
        "    img = read_img(unknown_dir + '/' + file)\n",
        "    img_enc = face_recognition.face_encodings(img)[0]\n",
        "\n",
        "    results = face_recognition.compare_faces(known_encodings, img_enc)\n",
        "    # print(face_recognition.face_distance(known_encodings, img_enc))\n",
        "\n",
        "    for i in range(len(results)):\n",
        "        if results[i]:\n",
        "            name = known_names[i]\n",
        "            (top, right, bottom, left) = face_recognition.face_locations(img)[0]\n",
        "            cv2.rectangle(img, (left, top), (right, bottom), (0, 0, 255), 2)\n",
        "            cv2.putText(img, name, (left+2, bottom+20), cv2.FONT_HERSHEY_PLAIN, 1, (255, 255, 255), 1)\n",
        "            cv2_imshow(img)\n",
        "\n",
        "\n",
        "    # print(results)\n"
      ],
      "execution_count": 6,
      "outputs": [
        {
          "output_type": "stream",
          "name": "stdout",
          "text": [
            "Error: Could not load image at path: known/bill.jpg\n",
            "Error: Could not load image at path: known/elon.jpg\n",
            "Error: Could not load image at path: known/obama.jpg\n",
            "Processing 1.jpg\n"
          ]
        },
        {
          "output_type": "error",
          "ename": "RuntimeError",
          "evalue": "Error while calling cudaOccupancyMaxPotentialBlockSize(&num_blocks,&num_threads,K) in file /root/.cache/uv/sdists-v7/pypi/dlib/19.24.6/1xt7ueDoi1VuzqqtZ80G9/src/dlib/cuda/cuda_utils.h:186. code: 222, reason: the provided PTX was compiled with an unsupported toolchain.",
          "traceback": [
            "\u001b[0;31m---------------------------------------------------------------------------\u001b[0m",
            "\u001b[0;31mRuntimeError\u001b[0m                              Traceback (most recent call last)",
            "\u001b[0;32m<ipython-input-6-c223aa8ee09a>\u001b[0m in \u001b[0;36m<cell line: 0>\u001b[0;34m()\u001b[0m\n\u001b[1;32m     34\u001b[0m     \u001b[0mprint\u001b[0m\u001b[0;34m(\u001b[0m\u001b[0;34m\"Processing\"\u001b[0m\u001b[0;34m,\u001b[0m \u001b[0mfile\u001b[0m\u001b[0;34m)\u001b[0m\u001b[0;34m\u001b[0m\u001b[0;34m\u001b[0m\u001b[0m\n\u001b[1;32m     35\u001b[0m     \u001b[0mimg\u001b[0m \u001b[0;34m=\u001b[0m \u001b[0mread_img\u001b[0m\u001b[0;34m(\u001b[0m\u001b[0munknown_dir\u001b[0m \u001b[0;34m+\u001b[0m \u001b[0;34m'/'\u001b[0m \u001b[0;34m+\u001b[0m \u001b[0mfile\u001b[0m\u001b[0;34m)\u001b[0m\u001b[0;34m\u001b[0m\u001b[0;34m\u001b[0m\u001b[0m\n\u001b[0;32m---> 36\u001b[0;31m     \u001b[0mimg_enc\u001b[0m \u001b[0;34m=\u001b[0m \u001b[0mface_recognition\u001b[0m\u001b[0;34m.\u001b[0m\u001b[0mface_encodings\u001b[0m\u001b[0;34m(\u001b[0m\u001b[0mimg\u001b[0m\u001b[0;34m)\u001b[0m\u001b[0;34m[\u001b[0m\u001b[0;36m0\u001b[0m\u001b[0;34m]\u001b[0m\u001b[0;34m\u001b[0m\u001b[0;34m\u001b[0m\u001b[0m\n\u001b[0m\u001b[1;32m     37\u001b[0m \u001b[0;34m\u001b[0m\u001b[0m\n\u001b[1;32m     38\u001b[0m     \u001b[0mresults\u001b[0m \u001b[0;34m=\u001b[0m \u001b[0mface_recognition\u001b[0m\u001b[0;34m.\u001b[0m\u001b[0mcompare_faces\u001b[0m\u001b[0;34m(\u001b[0m\u001b[0mknown_encodings\u001b[0m\u001b[0;34m,\u001b[0m \u001b[0mimg_enc\u001b[0m\u001b[0;34m)\u001b[0m\u001b[0;34m\u001b[0m\u001b[0;34m\u001b[0m\u001b[0m\n",
            "\u001b[0;32m/usr/local/lib/python3.11/dist-packages/face_recognition/api.py\u001b[0m in \u001b[0;36mface_encodings\u001b[0;34m(face_image, known_face_locations, num_jitters, model)\u001b[0m\n\u001b[1;32m    212\u001b[0m     \"\"\"\n\u001b[1;32m    213\u001b[0m     \u001b[0mraw_landmarks\u001b[0m \u001b[0;34m=\u001b[0m \u001b[0m_raw_face_landmarks\u001b[0m\u001b[0;34m(\u001b[0m\u001b[0mface_image\u001b[0m\u001b[0;34m,\u001b[0m \u001b[0mknown_face_locations\u001b[0m\u001b[0;34m,\u001b[0m \u001b[0mmodel\u001b[0m\u001b[0;34m)\u001b[0m\u001b[0;34m\u001b[0m\u001b[0;34m\u001b[0m\u001b[0m\n\u001b[0;32m--> 214\u001b[0;31m     \u001b[0;32mreturn\u001b[0m \u001b[0;34m[\u001b[0m\u001b[0mnp\u001b[0m\u001b[0;34m.\u001b[0m\u001b[0marray\u001b[0m\u001b[0;34m(\u001b[0m\u001b[0mface_encoder\u001b[0m\u001b[0;34m.\u001b[0m\u001b[0mcompute_face_descriptor\u001b[0m\u001b[0;34m(\u001b[0m\u001b[0mface_image\u001b[0m\u001b[0;34m,\u001b[0m \u001b[0mraw_landmark_set\u001b[0m\u001b[0;34m,\u001b[0m \u001b[0mnum_jitters\u001b[0m\u001b[0;34m)\u001b[0m\u001b[0;34m)\u001b[0m \u001b[0;32mfor\u001b[0m \u001b[0mraw_landmark_set\u001b[0m \u001b[0;32min\u001b[0m \u001b[0mraw_landmarks\u001b[0m\u001b[0;34m]\u001b[0m\u001b[0;34m\u001b[0m\u001b[0;34m\u001b[0m\u001b[0m\n\u001b[0m\u001b[1;32m    215\u001b[0m \u001b[0;34m\u001b[0m\u001b[0m\n\u001b[1;32m    216\u001b[0m \u001b[0;34m\u001b[0m\u001b[0m\n",
            "\u001b[0;32m/usr/local/lib/python3.11/dist-packages/face_recognition/api.py\u001b[0m in \u001b[0;36m<listcomp>\u001b[0;34m(.0)\u001b[0m\n\u001b[1;32m    212\u001b[0m     \"\"\"\n\u001b[1;32m    213\u001b[0m     \u001b[0mraw_landmarks\u001b[0m \u001b[0;34m=\u001b[0m \u001b[0m_raw_face_landmarks\u001b[0m\u001b[0;34m(\u001b[0m\u001b[0mface_image\u001b[0m\u001b[0;34m,\u001b[0m \u001b[0mknown_face_locations\u001b[0m\u001b[0;34m,\u001b[0m \u001b[0mmodel\u001b[0m\u001b[0;34m)\u001b[0m\u001b[0;34m\u001b[0m\u001b[0;34m\u001b[0m\u001b[0m\n\u001b[0;32m--> 214\u001b[0;31m     \u001b[0;32mreturn\u001b[0m \u001b[0;34m[\u001b[0m\u001b[0mnp\u001b[0m\u001b[0;34m.\u001b[0m\u001b[0marray\u001b[0m\u001b[0;34m(\u001b[0m\u001b[0mface_encoder\u001b[0m\u001b[0;34m.\u001b[0m\u001b[0mcompute_face_descriptor\u001b[0m\u001b[0;34m(\u001b[0m\u001b[0mface_image\u001b[0m\u001b[0;34m,\u001b[0m \u001b[0mraw_landmark_set\u001b[0m\u001b[0;34m,\u001b[0m \u001b[0mnum_jitters\u001b[0m\u001b[0;34m)\u001b[0m\u001b[0;34m)\u001b[0m \u001b[0;32mfor\u001b[0m \u001b[0mraw_landmark_set\u001b[0m \u001b[0;32min\u001b[0m \u001b[0mraw_landmarks\u001b[0m\u001b[0;34m]\u001b[0m\u001b[0;34m\u001b[0m\u001b[0;34m\u001b[0m\u001b[0m\n\u001b[0m\u001b[1;32m    215\u001b[0m \u001b[0;34m\u001b[0m\u001b[0m\n\u001b[1;32m    216\u001b[0m \u001b[0;34m\u001b[0m\u001b[0m\n",
            "\u001b[0;31mRuntimeError\u001b[0m: Error while calling cudaOccupancyMaxPotentialBlockSize(&num_blocks,&num_threads,K) in file /root/.cache/uv/sdists-v7/pypi/dlib/19.24.6/1xt7ueDoi1VuzqqtZ80G9/src/dlib/cuda/cuda_utils.h:186. code: 222, reason: the provided PTX was compiled with an unsupported toolchain."
          ]
        }
      ]
    },
    {
      "cell_type": "code",
      "metadata": {
        "id": "CGy3HUjXMWNf"
      },
      "source": [],
      "execution_count": null,
      "outputs": []
    }
  ]
}